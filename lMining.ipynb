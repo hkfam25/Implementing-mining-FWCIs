{
  "nbformat": 4,
  "nbformat_minor": 0,
  "metadata": {
    "colab": {
      "provenance": []
    },
    "kernelspec": {
      "name": "python3",
      "display_name": "Python 3"
    },
    "language_info": {
      "name": "python"
    }
  },
  "cells": [
    {
      "cell_type": "code",
      "execution_count": null,
      "metadata": {
        "id": "-NB4q4nQm_nr"
      },
      "outputs": [],
      "source": [
        "import timeit\n",
        "import random\n",
        "from collections import defaultdict\n",
        "from typing import List, Dict, Tuple, Set\n",
        "from itertools import chain\n",
        "from collections import OrderedDict\n",
        "\n",
        "start = timeit.default_timer()\n",
        "class WNTreeNode:\n",
        "    def __init__(self, item: str, weight: float, pre: int = -1, pos: int = -1):\n",
        "        self.item = item\n",
        "        self.children = {}\n",
        "        self.pre = pre\n",
        "        self.pos = pos\n",
        "        self.weight = weight\n",
        "\n",
        "    def get_children(self):\n",
        "        return self.children\n",
        "\n",
        "    def get_weight(self):\n",
        "        return self.weight\n",
        "\n",
        "    def get_name(self):\n",
        "        return self.item\n",
        "\n",
        "    def add_child(self, child_item, child_weight):\n",
        "        self.children[child_item] = WNTreeNode(child_item, child_weight)\n",
        "\n",
        "    def update_weight(self, transaction_weight):\n",
        "        self.weight += transaction_weight\n",
        "\n",
        "    def assign_pre_pos(self):\n",
        "        count_pre = [0]\n",
        "        count_pos = [0]\n",
        "\n",
        "        self._dfs_assign_pre_pos(count_pre, count_pos)\n",
        "\n",
        "    def _dfs_assign_pre_pos(self, count_pre, count_pos):\n",
        "        self.pre = count_pre[0]\n",
        "        count_pre[0] += 1\n",
        "\n",
        "        for child in self.children.values():\n",
        "            child._dfs_assign_pre_pos(count_pre, count_pos)\n",
        "\n",
        "        self.pos = count_pos[0]\n",
        "        count_pos[0] += 1\n",
        "\n",
        "    def calculate_all_wl(self) -> Dict[str, List['WNTreeNode']]:\n",
        "        item_to_wl = defaultdict(list)\n",
        "        self.traverse_and_calculate_wl(item_to_wl)\n",
        "        return dict(item_to_wl)\n",
        "\n",
        "    def traverse_and_calculate_wl(self, item_to_wl: Dict[str, List['WNTreeNode']]):\n",
        "        if self is None:\n",
        "            return\n",
        "\n",
        "        item_name = self.get_name()\n",
        "        item_to_wl[item_name].append(self)\n",
        "\n",
        "        for child in self.get_children().values():\n",
        "            child.traverse_and_calculate_wl(item_to_wl)\n",
        "\n"
      ]
    },
    {
      "cell_type": "code",
      "source": [
        "def generate_weighted_data(num_transactions: int, num_items: int) -> List[List[Tuple[str, float]]]:\n",
        "    \"\"\"\n",
        "    Generates a list of weighted transactions.\n",
        "\n",
        "    Args:\n",
        "    - num_transactions: The number of transactions to generate.\n",
        "    - num_items: The maximum number of items per transaction.\n",
        "\n",
        "    Returns:\n",
        "    - List of weighted transactions where each transaction is represented as a list of tuples containing\n",
        "      the item and its corresponding weight.\n",
        "    \"\"\"\n",
        "    weighted_data = []\n",
        "    item_weights = {}\n",
        "\n",
        "    random.seed()  # Initialize the random number generator\n",
        "\n",
        "    for _ in range(num_transactions):\n",
        "        transaction = []\n",
        "        used_items = set()\n",
        "\n",
        "        while len(transaction) < random.randint(2, num_items):\n",
        "            item = chr(random.randint(65, 75))  # Generate items from A to K\n",
        "\n",
        "            if item not in used_items:\n",
        "                used_items.add(item)\n",
        "\n",
        "                if item not in item_weights:\n",
        "                    # Assign a permanent weight for the item within the range of 0.1 to 0.9\n",
        "                    random_weight_int = random.randint(1, 9)  # Random integer between 1 and 9\n",
        "                    item_weight = random_weight_int / 10.0  # Convert to double and scale to range [0.1, 0.9]\n",
        "                    item_weights[item] = item_weight\n",
        "\n",
        "                # Check if item already exists in the transaction\n",
        "                if (item, item_weights[item]) not in transaction:\n",
        "                    transaction.append((item, item_weights[item]))\n",
        "\n",
        "        weighted_data.append(transaction)\n",
        "    return weighted_data\n",
        "\n",
        "min_ws=0.3\n",
        "\n",
        "#weighted_data=(generate_weighted_data(5, 5))\n",
        "#print(weighted_data)"
      ],
      "metadata": {
        "id": "xUh8TaDbndld"
      },
      "execution_count": null,
      "outputs": []
    },
    {
      "cell_type": "code",
      "source": [
        "#Simulate weighted transaction in the article\n",
        "item_weights_2={'A':0.8,'B':0.3,'C':0.1,'D':0.9,'E':0.2,'F':0.5}\n",
        "weighted_data=[[('A', 0), ('C', 0), ('D', 0), ('E', 0)],\n",
        " [('B', 0), ('C',0 ), ('E', 0)],\n",
        " [('A', 0),('B', 0),('C', 0)],\n",
        " [('A', 0),('C', 0),('E', 0),('F', 0)],\n",
        " [('A', 0),('C', 0),('D', 0),('E', 0),('F', 0)],\n",
        " [('B', 0),('C', 0),('D', 0),('E', 0),('F', 0)],\n",
        " [('A', 0),('C', 0),('D', 0)]]\n",
        "\n",
        "for sublist in weighted_data:\n",
        "    for item, weight in sublist:\n",
        "        if item in item_weights_2:\n",
        "            sublist[sublist.index((item, weight))] = (item, item_weights_2[item])\n",
        "\n",
        "print(weighted_data)"
      ],
      "metadata": {
        "colab": {
          "base_uri": "https://localhost:8080/"
        },
        "id": "ckN1BJFrRd_G",
        "outputId": "4fa80dcf-661f-4256-cf5b-27c47ff2ec95"
      },
      "execution_count": null,
      "outputs": [
        {
          "output_type": "stream",
          "name": "stdout",
          "text": [
            "[[('A', 0.8), ('C', 0.1), ('D', 0.9), ('E', 0.2)], [('B', 0.3), ('C', 0.1), ('E', 0.2)], [('A', 0.8), ('B', 0.3), ('C', 0.1)], [('A', 0.8), ('C', 0.1), ('E', 0.2), ('F', 0.5)], [('A', 0.8), ('C', 0.1), ('D', 0.9), ('E', 0.2), ('F', 0.5)], [('B', 0.3), ('C', 0.1), ('D', 0.9), ('E', 0.2), ('F', 0.5)], [('A', 0.8), ('C', 0.1), ('D', 0.9)]]\n"
          ]
        }
      ]
    },
    {
      "cell_type": "code",
      "source": [
        "def calculate_transaction_weights(weighted_data: List[List[object]]) -> List[float]:\n",
        "    \"\"\"\n",
        "    Calculates transaction weights based on the weighted data provided.\n",
        "\n",
        "    Args:\n",
        "    - weighted_data: A list of lists containing tuples or pairs of objects representing items and their weights.\n",
        "\n",
        "    Returns:\n",
        "    - List[float]: A list containing calculated transaction weights for each transaction in the input data.\n",
        "    \"\"\"\n",
        "    transaction_weights = []\n",
        "\n",
        "    for transaction in weighted_data:\n",
        "        transaction_weight = 0.0\n",
        "        item_count = 0\n",
        "\n",
        "        for item_weight_pair in transaction:\n",
        "            # Unpack the item and weight from the pair\n",
        "            item, weight = item_weight_pair\n",
        "\n",
        "            transaction_weight += weight\n",
        "            item_count += 1\n",
        "\n",
        "        # Normalize the transaction weight by averaging over item count\n",
        "        transaction_weight = round((transaction_weight / item_count) * 10000.0) / 10000.0\n",
        "        transaction_weights.append(transaction_weight)\n",
        "\n",
        "    return transaction_weights\n",
        "transaction_weights=calculate_transaction_weights(weighted_data)\n",
        "print(transaction_weights)\n",
        "sum_transaction_weights=sum(transaction_weights)\n",
        "print(sum_transaction_weights)"
      ],
      "metadata": {
        "colab": {
          "base_uri": "https://localhost:8080/"
        },
        "id": "Sp-v9F9ioX_Y",
        "outputId": "e8d29a77-ba75-4393-dca3-50fe6e37bc04"
      },
      "execution_count": null,
      "outputs": [
        {
          "output_type": "stream",
          "name": "stdout",
          "text": [
            "[0.5, 0.2, 0.4, 0.4, 0.5, 0.4, 0.6]\n",
            "3.0\n"
          ]
        }
      ]
    },
    {
      "cell_type": "code",
      "source": [
        "def calculate_and_sort_item_supports(weighted_data: List[List[object]], transaction_weights: List[float]) -> List[Tuple[str, float]]:\n",
        "    \"\"\"\n",
        "    Calculates and sorts item supports based on the weighted data and transaction weights provided.\n",
        "\n",
        "    Args:\n",
        "    - weighted_data: A list of lists containing tuples or pairs of objects representing items and their weights.\n",
        "    - transaction_weights: A list containing the weights of transactions corresponding to the weighted data.\n",
        "\n",
        "    Returns:\n",
        "    - List[Tuple[str, float]]: A list of tuples containing item names and their calculated supports, sorted in descending order of support.\n",
        "    \"\"\"\n",
        "    item_supports = defaultdict(float)\n",
        "\n",
        "    for transaction, transaction_weight in zip(weighted_data, transaction_weights):\n",
        "        for item, item_weight in transaction:\n",
        "            if item not in item_supports:\n",
        "                item_supports[item] = 0\n",
        "\n",
        "            item_supports[item] += transaction_weight\n",
        "\n",
        "    for item in item_supports:\n",
        "        item_supports[item] /= sum(transaction_weights)\n",
        "        item_supports[item] = round(item_supports[item],2)\n",
        "    sorted_item_supports = sorted(item_supports.items(), key=lambda x: x[1], reverse=True)\n",
        "    return sorted_item_supports\n",
        "\n",
        "sorted_item_supports = calculate_and_sort_item_supports(weighted_data, transaction_weights)\n",
        "print(sorted_item_supports)"
      ],
      "metadata": {
        "colab": {
          "base_uri": "https://localhost:8080/"
        },
        "id": "nHQTW488ERZS",
        "outputId": "4d019fc8-98ee-488c-f433-b7a93729e6d2"
      },
      "execution_count": null,
      "outputs": [
        {
          "output_type": "stream",
          "name": "stdout",
          "text": [
            "[('C', 1.0), ('A', 0.8), ('D', 0.67), ('E', 0.67), ('F', 0.43), ('B', 0.33)]\n"
          ]
        }
      ]
    },
    {
      "cell_type": "code",
      "source": [
        "def remove_items_by_weight_threshold(weighted_data: List[List[Tuple[str, float]]],\n",
        "                                     sorted_item_supports: List[Tuple[str, float]],\n",
        "                                     min_ws: float) -> List[List[Tuple[str, float]]]:\n",
        "    \"\"\"\n",
        "    Removes items from the weighted data based on a minimum weight threshold.\n",
        "\n",
        "    Args:\n",
        "    - weighted_data: A list of lists containing tuples representing items and their corresponding weights.\n",
        "    - sorted_item_supports: A list of tuples containing sorted item supports in descending order.\n",
        "    - min_ws: The minimum weight threshold for including items in the updated data.\n",
        "\n",
        "    Returns:\n",
        "    - List[List[Tuple[str, float]]]: Updated weighted data with items meeting the weight threshold.\n",
        "    \"\"\"\n",
        "    updated_weighted_data = []\n",
        "\n",
        "    for transaction in weighted_data:\n",
        "        updated_transaction = []\n",
        "\n",
        "        for item_weight_pair in transaction:\n",
        "            item, weight = item_weight_pair  # Unpack the item and weight from the pair\n",
        "\n",
        "            # Find the item in sorted_item_supports\n",
        "            should_include_item = any(entry[0] == item and entry[1] >= min_ws for entry in sorted_item_supports)\n",
        "\n",
        "            if should_include_item:\n",
        "                updated_transaction.append(item_weight_pair)\n",
        "\n",
        "        updated_weighted_data.append(updated_transaction)\n",
        "\n",
        "    return updated_weighted_data\n",
        "\n",
        "weighted_data= remove_items_by_weight_threshold(weighted_data,sorted_item_supports,min_ws)\n",
        "print(weighted_data)"
      ],
      "metadata": {
        "colab": {
          "base_uri": "https://localhost:8080/"
        },
        "id": "DjtW2BmLO7p5",
        "outputId": "c88b74ce-7fe1-40b6-9d09-c24b31126962"
      },
      "execution_count": null,
      "outputs": [
        {
          "output_type": "stream",
          "name": "stdout",
          "text": [
            "[[('A', 0.8), ('C', 0.1), ('D', 0.9), ('E', 0.2)], [('B', 0.3), ('C', 0.1), ('E', 0.2)], [('A', 0.8), ('B', 0.3), ('C', 0.1)], [('A', 0.8), ('C', 0.1), ('E', 0.2), ('F', 0.5)], [('A', 0.8), ('C', 0.1), ('D', 0.9), ('E', 0.2), ('F', 0.5)], [('B', 0.3), ('C', 0.1), ('D', 0.9), ('E', 0.2), ('F', 0.5)], [('A', 0.8), ('C', 0.1), ('D', 0.9)]]\n"
          ]
        }
      ]
    },
    {
      "cell_type": "code",
      "source": [
        "#sort the items in each transaction in descending order based on its ws\n",
        "item_name_to_index = {item: i for i, (item, _) in enumerate(sorted_item_supports)}\n",
        "\n",
        "sorted_transactions_and_weights = []\n",
        "for transaction_index, transaction in enumerate(weighted_data):\n",
        "    sorted_transaction_items = sorted(transaction, key=lambda x: sorted_item_supports[item_name_to_index[x[0]]][1], reverse=True)\n",
        "    transaction_weight = transaction_weights[transaction_index]\n",
        "\n",
        "    sorted_transaction_items = [item for item, weight in sorted_transaction_items]\n",
        "\n",
        "    sorted_transactions_and_weights.append((sorted_transaction_items, transaction_weight))\n",
        "\n",
        "print(sorted_transactions_and_weights)"
      ],
      "metadata": {
        "colab": {
          "base_uri": "https://localhost:8080/"
        },
        "id": "NKcJ9RLvWnfm",
        "outputId": "ef778157-6518-48f1-c56c-718089d76fac"
      },
      "execution_count": null,
      "outputs": [
        {
          "output_type": "stream",
          "name": "stdout",
          "text": [
            "[(['C', 'A', 'D', 'E'], 0.5), (['C', 'E', 'B'], 0.2), (['C', 'A', 'B'], 0.4), (['C', 'A', 'E', 'F'], 0.4), (['C', 'A', 'D', 'E', 'F'], 0.5), (['C', 'D', 'E', 'F', 'B'], 0.4), (['C', 'A', 'D'], 0.6)]\n"
          ]
        }
      ]
    },
    {
      "cell_type": "code",
      "source": [
        "def build_wn_tree(sorted_transactions_and_weights: List[Tuple[List[str], float]], min_ws: float) -> WNTreeNode:\n",
        "    \"\"\"\n",
        "    Builds a Weighted node Tree (WN-Tree) from sorted transactions and weights.\n",
        "\n",
        "    Args:\n",
        "    - sorted_transactions_and_weights: A list of tuples containing a list of strings (items) and their corresponding float weights.\n",
        "    - min_ws: Minimum weight threshold.\n",
        "\n",
        "    Returns:\n",
        "    - WNTreeNode: The root node of the generated WN-Tree.\n",
        "    \"\"\"\n",
        "    wn_tree = WNTreeNode(\"\", 0.0)\n",
        "    for transaction in sorted_transactions_and_weights:\n",
        "        insert_tree(transaction, wn_tree)\n",
        "    return wn_tree\n",
        "\n"
      ],
      "metadata": {
        "id": "RzInRZEGdksY"
      },
      "execution_count": null,
      "outputs": []
    },
    {
      "cell_type": "code",
      "source": [
        "def print_wn_tree(root: WNTreeNode, prefix: str = \"\", is_tail: bool = True) -> None:\n",
        "    \"\"\"\n",
        "    Recursively prints the structure of a Weighted N-ary Tree (WN-Tree).\n",
        "\n",
        "    Args:\n",
        "    - root: The root node of the WN-Tree.\n",
        "    - prefix: A string used for spacing and visualization.\n",
        "    - is_tail: Indicates whether the current node is a leaf node.\n",
        "\n",
        "    Returns:\n",
        "    - None: Prints the WN-Tree structure.\n",
        "    \"\"\"\n",
        "    print(prefix + (\"\" if is_tail else \"│ \") + root.get_name() + f\" (Pre: {root.pre}, Pos: {root.pos}, Weight: {root.get_weight()})\")\n",
        "    children = list(root.get_children().values())\n",
        "    for i, child in enumerate(children[:-1]):\n",
        "        print_wn_tree(child, prefix + (\"\" if is_tail else \"│ \") + \"   \", False)\n",
        "    if children:\n",
        "        print_wn_tree(children[-1], prefix + (\"\" if is_tail else \"│ \") + \"   \", True)"
      ],
      "metadata": {
        "id": "HoH1W6TiOSYA"
      },
      "execution_count": null,
      "outputs": []
    },
    {
      "cell_type": "code",
      "source": [
        "def insert_tree(transaction: tuple, tree: WNTreeNode) -> None:\n",
        "    \"\"\"\n",
        "    Inserts a transaction into the WNTree, updating weights and creating new nodes as needed.\n",
        "\n",
        "    Args:\n",
        "    - transaction: A tuple containing a list of items and the corresponding transaction weight.\n",
        "    - tree: The WNTreeNode root of the tree.\n",
        "    \"\"\"\n",
        "    current_node = tree\n",
        "    item_pair, transaction_weight = transaction\n",
        "\n",
        "    for item in item_pair:\n",
        "        found = False\n",
        "\n",
        "        for child_key, child_node in current_node.children.items():\n",
        "            if item == child_key:\n",
        "                found = True\n",
        "                current_node = child_node\n",
        "                current_node.weight += transaction_weight\n",
        "                break\n",
        "\n",
        "        if not found:\n",
        "            new_child = WNTreeNode(item, transaction_weight)\n",
        "            current_node.children[item] = new_child\n",
        "            current_node = new_child\n",
        "\n",
        "wn_tree = build_wn_tree(sorted_transactions_and_weights, min_ws)\n",
        "wn_tree.assign_pre_pos()\n",
        "\n",
        "# Printing the WNTree\n",
        "print(\"WNTree:\")\n",
        "print_wn_tree(wn_tree, \"\", True)"
      ],
      "metadata": {
        "id": "nQgYUoaWyN32",
        "colab": {
          "base_uri": "https://localhost:8080/"
        },
        "outputId": "a6e8e388-ca25-4438-f31b-386e6e933750"
      },
      "execution_count": null,
      "outputs": [
        {
          "output_type": "stream",
          "name": "stdout",
          "text": [
            "WNTree:\n",
            " (Pre: 0, Pos: 14, Weight: 0.0)\n",
            "   C (Pre: 1, Pos: 13, Weight: 3.0)\n",
            "      │ A (Pre: 2, Pos: 6, Weight: 2.4)\n",
            "      │    │ D (Pre: 3, Pos: 2, Weight: 1.6)\n",
            "      │    │    E (Pre: 4, Pos: 1, Weight: 1.0)\n",
            "      │    │       F (Pre: 5, Pos: 0, Weight: 0.5)\n",
            "      │    │ B (Pre: 6, Pos: 3, Weight: 0.4)\n",
            "      │    E (Pre: 7, Pos: 5, Weight: 0.4)\n",
            "      │       F (Pre: 8, Pos: 4, Weight: 0.4)\n",
            "      │ E (Pre: 9, Pos: 8, Weight: 0.2)\n",
            "      │    B (Pre: 10, Pos: 7, Weight: 0.2)\n",
            "      D (Pre: 11, Pos: 12, Weight: 0.4)\n",
            "         E (Pre: 12, Pos: 11, Weight: 0.4)\n",
            "            F (Pre: 13, Pos: 10, Weight: 0.4)\n",
            "               B (Pre: 14, Pos: 9, Weight: 0.4)\n"
          ]
        }
      ]
    },
    {
      "cell_type": "code",
      "source": [
        "# Print WL for each item\n",
        "all_wl = wn_tree.calculate_all_wl()\n",
        "del all_wl['']\n",
        "sorted_item=[]\n",
        "for item_name, item_wl in all_wl.items():\n",
        "    print(f\"WL({item_name}):\")\n",
        "    sorted_item.append(item_name)\n",
        "    for node in item_wl:\n",
        "        print(f\"({node.pre}, {node.pos}, {node.weight})\")\n",
        "    print()\n",
        "print(sorted_item)"
      ],
      "metadata": {
        "colab": {
          "base_uri": "https://localhost:8080/"
        },
        "id": "W4Yo2SqRAVq4",
        "outputId": "71a63991-5f30-4d17-cf81-d743a59717d9"
      },
      "execution_count": null,
      "outputs": [
        {
          "output_type": "stream",
          "name": "stdout",
          "text": [
            "WL(C):\n",
            "(1, 13, 3.0)\n",
            "\n",
            "WL(A):\n",
            "(2, 6, 2.4)\n",
            "\n",
            "WL(D):\n",
            "(3, 2, 1.6)\n",
            "(11, 12, 0.4)\n",
            "\n",
            "WL(E):\n",
            "(4, 1, 1.0)\n",
            "(7, 5, 0.4)\n",
            "(9, 8, 0.2)\n",
            "(12, 11, 0.4)\n",
            "\n",
            "WL(F):\n",
            "(5, 0, 0.5)\n",
            "(8, 4, 0.4)\n",
            "(13, 10, 0.4)\n",
            "\n",
            "WL(B):\n",
            "(6, 3, 0.4)\n",
            "(10, 7, 0.2)\n",
            "(14, 9, 0.4)\n",
            "\n",
            "['C', 'A', 'D', 'E', 'F', 'B']\n"
          ]
        }
      ]
    },
    {
      "cell_type": "code",
      "source": [
        "def union(s1: str, s2: str) -> str:\n",
        "    # Convert list of tuples to a dictionary with order preserved\n",
        "    predict_dict = {item: i for i, item in enumerate(sorted_item)}\n",
        "\n",
        "    combined = s2 + s1\n",
        "\n",
        "    # Sort the combined string based on the dictionary value\n",
        "    unique_chars = set(combined)\n",
        "    sorted_combined = ''.join(sorted(unique_chars, key=predict_dict.get, reverse=True))\n",
        "    return sorted_combined\n"
      ],
      "metadata": {
        "id": "kibqEdZwXFxR"
      },
      "execution_count": null,
      "outputs": []
    },
    {
      "cell_type": "code",
      "source": [
        "def wl_intersection(wl1: List[WNTreeNode], wl2: List[WNTreeNode]) -> List[WNTreeNode]:\n",
        "    \"\"\"\n",
        "    Computes the intersection of two lists of WNTreeNode objects based on specified conditions.\n",
        "\n",
        "    Args:\n",
        "    - wl1: List of WNTreeNode objects (sorted by pre)\n",
        "    - wl2: List of WNTreeNode objects (sorted by pre)\n",
        "\n",
        "    Returns:\n",
        "    - List of WNTreeNode objects representing the intersection of wl1 and wl2\n",
        "    \"\"\"\n",
        "    wl3 = []\n",
        "    s = 0\n",
        "    i = 0\n",
        "    j = 0\n",
        "    m = len(wl1)\n",
        "    n = len(wl2)\n",
        "\n",
        "    while i < m and j < n:\n",
        "        pre1i = wl1[i].pre\n",
        "        pos1i = wl1[i].pos\n",
        "        w1i = wl1[i].weight\n",
        "\n",
        "        pre2j = wl2[j].pre\n",
        "        pos2j = wl2[j].pos\n",
        "\n",
        "        if pre2j < pre1i:\n",
        "            if pos2j > pos1i:\n",
        "                if s > 0 and pre2j == wl3[s - 1].pre:\n",
        "                    wl3[s - 1].weight += w1i\n",
        "                else:\n",
        "                    s += 1\n",
        "                    newNode = WNTreeNode(union(wl1[i].item,wl2[j].item ), w1i,pre2j, pos2j)\n",
        "                    wl3.append(newNode)\n",
        "                i += 1\n",
        "            else:\n",
        "                j += 1\n",
        "        else:\n",
        "            i += 1\n",
        "    return wl3"
      ],
      "metadata": {
        "id": "K7NvV60XNNVz"
      },
      "execution_count": null,
      "outputs": []
    },
    {
      "cell_type": "code",
      "source": [
        "# Function to calculate weighted support\n",
        "def calculate_weighted_support(nodes: List[WNTreeNode]) -> float:\n",
        "        \"\"\"\n",
        "        Calculate the weighted support for a list of WNTreeNode objects.\n",
        "\n",
        "        Args:\n",
        "        - nodes (List[WNTreeNode]): A list of WNTreeNode objects.\n",
        "\n",
        "        Returns:\n",
        "        - float: Weighted support calculated as the sum of weights divided by the total transaction weights.\n",
        "        \"\"\"\n",
        "        weight_sum = sum(node.weight for node in nodes)\n",
        "        return weight_sum/sum_transaction_weights\n",
        "\n",
        "\n",
        "def is_ancestor(wl_pa1: List['WNTreeNode'], wl_pa2: List['WNTreeNode']) -> bool:\n",
        "    \"\"\"\n",
        "    Check if the WNTreeNode list wl_pa1 is an ancestor of wl_pa2.\n",
        "\n",
        "    Args:\n",
        "    - wl_pa1 (List['WNTreeNode']): List of WNTreeNode objects to check if they are ancestors.\n",
        "    - wl_pa2 (List['WNTreeNode']): List of WNTreeNode objects to be checked against.\n",
        "\n",
        "    Returns:\n",
        "    - bool: True if wl_pa1 is an ancestor of wl_pa2, False otherwise.\n",
        "    \"\"\"\n",
        "    count=0\n",
        "    check=len(wl_pa1)\n",
        "    ancestor_found = False\n",
        "    for ci in wl_pa2:\n",
        "        for cj in wl_pa1:\n",
        "            if ci.pre < cj.pre and ci.pos > cj.pos:\n",
        "                count += 1\n",
        "    if count==check:\n",
        "        ancestor_found=True\n",
        "    else:\n",
        "        ancestor_found=False\n",
        "\n",
        "    return ancestor_found\n",
        "\n"
      ],
      "metadata": {
        "id": "V3zhwiKacAgy"
      },
      "execution_count": null,
      "outputs": []
    },
    {
      "cell_type": "code",
      "source": [
        "FWCIs = []\n",
        "def NFWCI(all_wl_1_item, minws):\n",
        "    FWCIs = find_fwci(all_wl_1_item)\n",
        "\n",
        "    return FWCIs\n",
        "\n",
        "def find_fwci(calculated_wls: Dict[str, List[WNTreeNode]]) -> List[str]:\n",
        "    \"\"\"\n",
        "    Finds frequent weighted closed itemsets (FWCIs) from calculated weighted lists (calculated_wls).\n",
        "\n",
        "    Args:\n",
        "    - calculated_wls (Dict[str, List[WNTreeNode]]): Dictionary containing keys as item names and values as corresponding WNTreeNode lists.\n",
        "    - min_ws (float): Minimum weighted support threshold.\n",
        "\n",
        "    Returns:\n",
        "    - List[str]: List of frequent weighted closed itemsets.\n",
        "    \"\"\"\n",
        "    Is = list(calculated_wls.keys())\n",
        "    for i in range(len(Is) - 1, -1, -1):\n",
        "        Inext = {}\n",
        "        Inext_clone={}\n",
        "        Xi = Is[i]\n",
        "        wl_Xi = calculated_wls.get(Xi, [])\n",
        "        for j in range(i - 1, -1, -1):\n",
        "            Xj = Is[j]\n",
        "            wl_Xj = calculated_wls.get(Xj, [])\n",
        "            if (is_ancestor(wl_Xi,wl_Xj)):\n",
        "                wl_Xi = wl_intersection(wl_Xi, wl_Xj)\n",
        "                Xi = union(Xi,Xj)\n",
        "\n",
        "                for Xk in Inext:\n",
        "                    if union(Xk,Xj) not in Inext:\n",
        "                        Inext_clone[union(Xk,Xj)]=[]\n",
        "                    Inext_clone[union(Xk,Xj)]=(Inext.get(Xk,[]))\n",
        "                    Inext_clone = OrderedDict((key, value) for key, value in reversed(Inext_clone.items()))\n",
        "\n",
        "                if calculate_weighted_support(wl_Xi) == calculate_weighted_support(wl_Xj):\n",
        "                    Is.remove(Xj)\n",
        "                    i -= 1\n",
        "                Inext.clear()\n",
        "                Inext=dict(Inext_clone)\n",
        "            else:\n",
        "                wl_Xi_Xj = wl_intersection(wl_Xi, wl_Xj)\n",
        "                if calculate_weighted_support(wl_Xi_Xj) >= min_ws and set(wl_Xi_Xj) not in FWCIs:\n",
        "                    union_key = union(Xi, Xj)\n",
        "                    if union_key not in Inext:\n",
        "                        Inext[union_key]=(wl_Xi_Xj)\n",
        "        find_fwci(Inext)\n",
        "        FWCIs.append(Xi)\n",
        "    return FWCIs\n",
        "\n",
        "\n",
        "\n",
        "result_FWCIs = NFWCI(all_wl, min_ws)\n",
        "print(result_FWCIs)\n",
        "\n",
        "stop = timeit.default_timer()\n",
        "\n",
        "print('Time: ', stop - start)"
      ],
      "metadata": {
        "colab": {
          "base_uri": "https://localhost:8080/"
        },
        "id": "-4FBoPFlxMse",
        "outputId": "456230ed-fb1a-4dd9-8733-1991fdc55f50"
      },
      "execution_count": null,
      "outputs": [
        {
          "output_type": "stream",
          "name": "stdout",
          "text": [
            "['BC', 'FEDC', 'FEAC', 'FEC', 'EDAC', 'EDC', 'EAC', 'EC', 'DAC', 'DC', 'AC', 'C']\n",
            "Time:  1.063687066\n"
          ]
        }
      ]
    }
  ]
}